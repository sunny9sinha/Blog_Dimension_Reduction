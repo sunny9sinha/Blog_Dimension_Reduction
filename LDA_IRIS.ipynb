{
  "nbformat": 4,
  "nbformat_minor": 0,
  "metadata": {
    "colab": {
      "provenance": [],
      "authorship_tag": "ABX9TyOT8QxXcBtKlv8nBnZbsfxP",
      "include_colab_link": true
    },
    "kernelspec": {
      "name": "python3",
      "display_name": "Python 3"
    },
    "language_info": {
      "name": "python"
    }
  },
  "cells": [
    {
      "cell_type": "markdown",
      "metadata": {
        "id": "view-in-github",
        "colab_type": "text"
      },
      "source": [
        "<a href=\"https://colab.research.google.com/github/sunny9sinha/Blog_Dimension_Reduction/blob/main/LDA_IRIS.ipynb\" target=\"_parent\"><img src=\"https://colab.research.google.com/assets/colab-badge.svg\" alt=\"Open In Colab\"/></a>"
      ]
    },
    {
      "cell_type": "code",
      "execution_count": 6,
      "metadata": {
        "colab": {
          "base_uri": "https://localhost:8080/"
        },
        "id": "F9pB7S3nBwZa",
        "outputId": "2c95fee7-b11a-4f87-8c04-0433e1760cea"
      },
      "outputs": [
        {
          "output_type": "stream",
          "name": "stdout",
          "text": [
            "[0.9912126 0.0087874]\n"
          ]
        }
      ],
      "source": [
        "import pandas as pd\n",
        "import numpy as np\n",
        "from sklearn.datasets import load_iris\n",
        "from sklearn.discriminant_analysis import LinearDiscriminantAnalysis\n",
        "\n",
        "# Load the Iris dataset\n",
        "data = load_iris()\n",
        "\n",
        "# Create a dataframe with the features and target variable\n",
        "df = pd.DataFrame(data.data, columns=data.feature_names)\n",
        "df['target'] = data.target\n",
        "\n",
        "# Split the data into features and target\n",
        "X = df.drop('target', axis=1)\n",
        "y = df['target']\n",
        "\n",
        "# Use LDA to extract the most important features\n",
        "lda = LinearDiscriminantAnalysis(n_components=2)\n",
        "X_new = lda.fit_transform(X, y)\n",
        "\n",
        "# Print the variance explained by each component\n",
        "print(lda.explained_variance_ratio_)\n"
      ]
    }
  ]
}