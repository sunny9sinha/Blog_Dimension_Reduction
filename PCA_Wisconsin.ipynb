{
  "nbformat": 4,
  "nbformat_minor": 0,
  "metadata": {
    "colab": {
      "provenance": [],
      "authorship_tag": "ABX9TyMSzcYc7Icm5XA1YV4KQCVB",
      "include_colab_link": true
    },
    "kernelspec": {
      "name": "python3",
      "display_name": "Python 3"
    },
    "language_info": {
      "name": "python"
    }
  },
  "cells": [
    {
      "cell_type": "markdown",
      "metadata": {
        "id": "view-in-github",
        "colab_type": "text"
      },
      "source": [
        "<a href=\"https://colab.research.google.com/github/sunny9sinha/Blog_Dimension_Reduction/blob/main/PCA_Wisconsin.ipynb\" target=\"_parent\"><img src=\"https://colab.research.google.com/assets/colab-badge.svg\" alt=\"Open In Colab\"/></a>"
      ]
    },
    {
      "cell_type": "code",
      "execution_count": 1,
      "metadata": {
        "colab": {
          "base_uri": "https://localhost:8080/"
        },
        "id": "xlgoaOCv_SFG",
        "outputId": "9b08d83b-2d4d-47e4-848d-91db852a858f"
      },
      "outputs": [
        {
          "output_type": "stream",
          "name": "stdout",
          "text": [
            "[9.82044672e-01 1.61764899e-02 1.55751075e-03 1.20931964e-04\n",
            " 8.82724536e-05 6.64883951e-06 4.01713682e-06 8.22017197e-07\n",
            " 3.44135279e-07 1.86018721e-07]\n"
          ]
        }
      ],
      "source": [
        "import pandas as pd\n",
        "import numpy as np\n",
        "from sklearn.datasets import load_breast_cancer\n",
        "from sklearn.decomposition import PCA\n",
        "\n",
        "# Load the Wisconsin Breast Cancer dataset\n",
        "data = load_breast_cancer()\n",
        "\n",
        "# Create a dataframe with the features and target variable\n",
        "df = pd.DataFrame(data.data, columns=data.feature_names)\n",
        "df['target'] = data.target\n",
        "\n",
        "# Split the data into features and target\n",
        "X = df.drop('target', axis=1)\n",
        "y = df['target']\n",
        "\n",
        "# Use PCA to extract the most important features\n",
        "pca = PCA(n_components=10)\n",
        "X_new = pca.fit_transform(X)\n",
        "\n",
        "# Print the variance explained by each component\n",
        "print(pca.explained_variance_ratio_)\n"
      ]
    }
  ]
}